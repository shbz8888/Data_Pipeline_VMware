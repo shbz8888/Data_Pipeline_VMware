{
 "cells": [
  {
   "cell_type": "code",
   "execution_count": null,
   "metadata": {},
   "outputs": [],
   "source": [
    "import selenium\n",
    "from selenium import webdriver\n",
    "from selenium.webdriver.common.keys import Keys\n",
    "from selenium.webdriver.common.by import By\n",
    "import time \n",
    "driver = webdriver.Chrome()\n",
    "driver.get(\"https://gorillamind.com/\")\n",
    "time.sleep(1)\n",
    "link = driver.find_element(By.LINK_TEXT,\"All Products\")\n",
    "link.click()\n",
    "time.sleep(2)\n",
    "page_1 = driver.find_element(By.XPATH, \"//div[@class='\\one-third\\large-down--one-half\\medium-down--one-whole\\\\small-down--one-whole\\\\column\\\\quick-shop--true\\quick-shop--closed\\product-4898112667693 js-product_section\\thumbnail\\product__thumbnail\\product__grid-item\\thumbnail__hover-overlay--false\\has-padding-bottom']\")\n",
    "a_tag = page_1.find_element(By.TAG_NAME,'a')\n",
    "link = a_tag.get_attribute('href')\n",
    "print(link)     \n"
   ]
  }
 ],
 "metadata": {
  "kernelspec": {
   "display_name": "Python 3.10.4 64-bit",
   "language": "python",
   "name": "python3"
  },
  "language_info": {
   "name": "python",
   "version": "3.10.4"
  },
  "orig_nbformat": 4,
  "vscode": {
   "interpreter": {
    "hash": "916dbcbb3f70747c44a77c7bcd40155683ae19c65e1c03b4aa3499c5328201f1"
   }
  }
 },
 "nbformat": 4,
 "nbformat_minor": 2
}
