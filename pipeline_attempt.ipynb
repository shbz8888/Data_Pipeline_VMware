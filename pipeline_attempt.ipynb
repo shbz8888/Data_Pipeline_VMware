{
 "cells": [
  {
   "cell_type": "code",
   "execution_count": 3,
   "metadata": {},
   "outputs": [
    {
     "ename": "NoSuchElementException",
     "evalue": "Message: no such element: Unable to locate element: {\"method\":\"xpath\",\"selector\":\"//div[@class='\\one-third\\large-down--one-half\\medium-down--one-whole\\small-down--one-whole\\column\\quick-shop--true\\quick-shop--closed\\product-4898112667693 js-product_section\thumbnail\\product__thumbnail\\product__grid-item\thumbnail__hover-overlay--false\\has-padding-bottom']\"}\n  (Session info: chrome=103.0.5060.114)\nStacktrace:\n#0 0x5606c2aafb13 <unknown>\n#1 0x5606c28b6688 <unknown>\n#2 0x5606c28edcc7 <unknown>\n#3 0x5606c28ede91 <unknown>\n#4 0x5606c2920e34 <unknown>\n#5 0x5606c290b8dd <unknown>\n#6 0x5606c291eb94 <unknown>\n#7 0x5606c290b7a3 <unknown>\n#8 0x5606c28e10ea <unknown>\n#9 0x5606c28e2225 <unknown>\n#10 0x5606c2af72dd <unknown>\n#11 0x5606c2afb2c7 <unknown>\n#12 0x5606c2ae122e <unknown>\n#13 0x5606c2afc0a8 <unknown>\n#14 0x5606c2ad5bc0 <unknown>\n#15 0x5606c2b186c8 <unknown>\n#16 0x5606c2b18848 <unknown>\n#17 0x5606c2b32c0d <unknown>\n#18 0x7f63ac5d3b43 <unknown>\n",
     "output_type": "error",
     "traceback": [
      "\u001b[0;31m---------------------------------------------------------------------------\u001b[0m",
      "\u001b[0;31mNoSuchElementException\u001b[0m                    Traceback (most recent call last)",
      "\u001b[1;32m/home/shahbaz/Data_Pipeline_NewVM/Data_Pipeline_VMware/pipeline_attempt.ipynb Cell 1\u001b[0m in \u001b[0;36m<cell line: 12>\u001b[0;34m()\u001b[0m\n\u001b[1;32m     <a href='vscode-notebook-cell:/home/shahbaz/Data_Pipeline_NewVM/Data_Pipeline_VMware/pipeline_attempt.ipynb#ch0000000?line=9'>10</a>\u001b[0m link\u001b[39m.\u001b[39mclick()\n\u001b[1;32m     <a href='vscode-notebook-cell:/home/shahbaz/Data_Pipeline_NewVM/Data_Pipeline_VMware/pipeline_attempt.ipynb#ch0000000?line=10'>11</a>\u001b[0m time\u001b[39m.\u001b[39msleep(\u001b[39m3\u001b[39m)\n\u001b[0;32m---> <a href='vscode-notebook-cell:/home/shahbaz/Data_Pipeline_NewVM/Data_Pipeline_VMware/pipeline_attempt.ipynb#ch0000000?line=11'>12</a>\u001b[0m page_1 \u001b[39m=\u001b[39m driver\u001b[39m.\u001b[39;49mfind_element(By\u001b[39m.\u001b[39;49mXPATH, \u001b[39m\"\u001b[39;49m\u001b[39m//div[@class=\u001b[39;49m\u001b[39m'\u001b[39;49m\u001b[39m\\\u001b[39;49m\u001b[39mone-third\u001b[39;49m\u001b[39m\\\u001b[39;49m\u001b[39mlarge-down--one-half\u001b[39;49m\u001b[39m\\\u001b[39;49m\u001b[39mmedium-down--one-whole\u001b[39;49m\u001b[39m\\\\\u001b[39;49;00m\u001b[39msmall-down--one-whole\u001b[39;49m\u001b[39m\\\\\u001b[39;49;00m\u001b[39mcolumn\u001b[39;49m\u001b[39m\\\\\u001b[39;49;00m\u001b[39mquick-shop--true\u001b[39;49m\u001b[39m\\\u001b[39;49m\u001b[39mquick-shop--closed\u001b[39;49m\u001b[39m\\\u001b[39;49m\u001b[39mproduct-4898112667693 js-product_section\u001b[39;49m\u001b[39m\\t\u001b[39;49;00m\u001b[39mhumbnail\u001b[39;49m\u001b[39m\\\u001b[39;49m\u001b[39mproduct__thumbnail\u001b[39;49m\u001b[39m\\\u001b[39;49m\u001b[39mproduct__grid-item\u001b[39;49m\u001b[39m\\t\u001b[39;49;00m\u001b[39mhumbnail__hover-overlay--false\u001b[39;49m\u001b[39m\\\u001b[39;49m\u001b[39mhas-padding-bottom\u001b[39;49m\u001b[39m'\u001b[39;49m\u001b[39m]\u001b[39;49m\u001b[39m\"\u001b[39;49m)\n\u001b[1;32m     <a href='vscode-notebook-cell:/home/shahbaz/Data_Pipeline_NewVM/Data_Pipeline_VMware/pipeline_attempt.ipynb#ch0000000?line=12'>13</a>\u001b[0m a_tag \u001b[39m=\u001b[39m page_1\u001b[39m.\u001b[39mfind_element(By\u001b[39m.\u001b[39mTAG_NAME,\u001b[39m'\u001b[39m\u001b[39ma\u001b[39m\u001b[39m'\u001b[39m)\n\u001b[1;32m     <a href='vscode-notebook-cell:/home/shahbaz/Data_Pipeline_NewVM/Data_Pipeline_VMware/pipeline_attempt.ipynb#ch0000000?line=13'>14</a>\u001b[0m link \u001b[39m=\u001b[39m a_tag\u001b[39m.\u001b[39mget_attribute(\u001b[39m'\u001b[39m\u001b[39mhref\u001b[39m\u001b[39m'\u001b[39m)\n",
      "File \u001b[0;32m~/.local/lib/python3.10/site-packages/selenium/webdriver/remote/webdriver.py:857\u001b[0m, in \u001b[0;36mWebDriver.find_element\u001b[0;34m(self, by, value)\u001b[0m\n\u001b[1;32m    854\u001b[0m     by \u001b[39m=\u001b[39m By\u001b[39m.\u001b[39mCSS_SELECTOR\n\u001b[1;32m    855\u001b[0m     value \u001b[39m=\u001b[39m \u001b[39m'\u001b[39m\u001b[39m[name=\u001b[39m\u001b[39m\"\u001b[39m\u001b[39m%s\u001b[39;00m\u001b[39m\"\u001b[39m\u001b[39m]\u001b[39m\u001b[39m'\u001b[39m \u001b[39m%\u001b[39m value\n\u001b[0;32m--> 857\u001b[0m \u001b[39mreturn\u001b[39;00m \u001b[39mself\u001b[39;49m\u001b[39m.\u001b[39;49mexecute(Command\u001b[39m.\u001b[39;49mFIND_ELEMENT, {\n\u001b[1;32m    858\u001b[0m     \u001b[39m'\u001b[39;49m\u001b[39musing\u001b[39;49m\u001b[39m'\u001b[39;49m: by,\n\u001b[1;32m    859\u001b[0m     \u001b[39m'\u001b[39;49m\u001b[39mvalue\u001b[39;49m\u001b[39m'\u001b[39;49m: value})[\u001b[39m'\u001b[39m\u001b[39mvalue\u001b[39m\u001b[39m'\u001b[39m]\n",
      "File \u001b[0;32m~/.local/lib/python3.10/site-packages/selenium/webdriver/remote/webdriver.py:435\u001b[0m, in \u001b[0;36mWebDriver.execute\u001b[0;34m(self, driver_command, params)\u001b[0m\n\u001b[1;32m    433\u001b[0m response \u001b[39m=\u001b[39m \u001b[39mself\u001b[39m\u001b[39m.\u001b[39mcommand_executor\u001b[39m.\u001b[39mexecute(driver_command, params)\n\u001b[1;32m    434\u001b[0m \u001b[39mif\u001b[39;00m response:\n\u001b[0;32m--> 435\u001b[0m     \u001b[39mself\u001b[39;49m\u001b[39m.\u001b[39;49merror_handler\u001b[39m.\u001b[39;49mcheck_response(response)\n\u001b[1;32m    436\u001b[0m     response[\u001b[39m'\u001b[39m\u001b[39mvalue\u001b[39m\u001b[39m'\u001b[39m] \u001b[39m=\u001b[39m \u001b[39mself\u001b[39m\u001b[39m.\u001b[39m_unwrap_value(\n\u001b[1;32m    437\u001b[0m         response\u001b[39m.\u001b[39mget(\u001b[39m'\u001b[39m\u001b[39mvalue\u001b[39m\u001b[39m'\u001b[39m, \u001b[39mNone\u001b[39;00m))\n\u001b[1;32m    438\u001b[0m     \u001b[39mreturn\u001b[39;00m response\n",
      "File \u001b[0;32m~/.local/lib/python3.10/site-packages/selenium/webdriver/remote/errorhandler.py:247\u001b[0m, in \u001b[0;36mErrorHandler.check_response\u001b[0;34m(self, response)\u001b[0m\n\u001b[1;32m    245\u001b[0m         alert_text \u001b[39m=\u001b[39m value[\u001b[39m'\u001b[39m\u001b[39malert\u001b[39m\u001b[39m'\u001b[39m]\u001b[39m.\u001b[39mget(\u001b[39m'\u001b[39m\u001b[39mtext\u001b[39m\u001b[39m'\u001b[39m)\n\u001b[1;32m    246\u001b[0m     \u001b[39mraise\u001b[39;00m exception_class(message, screen, stacktrace, alert_text)  \u001b[39m# type: ignore[call-arg]  # mypy is not smart enough here\u001b[39;00m\n\u001b[0;32m--> 247\u001b[0m \u001b[39mraise\u001b[39;00m exception_class(message, screen, stacktrace)\n",
      "\u001b[0;31mNoSuchElementException\u001b[0m: Message: no such element: Unable to locate element: {\"method\":\"xpath\",\"selector\":\"//div[@class='\\one-third\\large-down--one-half\\medium-down--one-whole\\small-down--one-whole\\column\\quick-shop--true\\quick-shop--closed\\product-4898112667693 js-product_section\thumbnail\\product__thumbnail\\product__grid-item\thumbnail__hover-overlay--false\\has-padding-bottom']\"}\n  (Session info: chrome=103.0.5060.114)\nStacktrace:\n#0 0x5606c2aafb13 <unknown>\n#1 0x5606c28b6688 <unknown>\n#2 0x5606c28edcc7 <unknown>\n#3 0x5606c28ede91 <unknown>\n#4 0x5606c2920e34 <unknown>\n#5 0x5606c290b8dd <unknown>\n#6 0x5606c291eb94 <unknown>\n#7 0x5606c290b7a3 <unknown>\n#8 0x5606c28e10ea <unknown>\n#9 0x5606c28e2225 <unknown>\n#10 0x5606c2af72dd <unknown>\n#11 0x5606c2afb2c7 <unknown>\n#12 0x5606c2ae122e <unknown>\n#13 0x5606c2afc0a8 <unknown>\n#14 0x5606c2ad5bc0 <unknown>\n#15 0x5606c2b186c8 <unknown>\n#16 0x5606c2b18848 <unknown>\n#17 0x5606c2b32c0d <unknown>\n#18 0x7f63ac5d3b43 <unknown>\n"
     ]
    }
   ],
   "source": [
    "import selenium\n",
    "from selenium import webdriver\n",
    "from selenium.webdriver.common.keys import Keys\n",
    "from selenium.webdriver.common.by import By\n",
    "import time \n",
    "driver = webdriver.Chrome()\n",
    "driver.get(\"https://gorillamind.com/\")\n",
    "time.sleep(1)\n",
    "link = driver.find_element(By.LINK_TEXT,\"All Products\")\n",
    "link.click()\n",
    "time.sleep(2)\n",
    "page_1 = driver.find_element(By.XPATH, \"//div[@class='\\one-third\\large-down--one-half\\medium-down--one-whole\\\\small-down--one-whole\\\\column\\\\quick-shop--true\\quick-shop--closed\\product-4898112667693 js-product_section\\thumbnail\\product__thumbnail\\product__grid-item\\thumbnail__hover-overlay--false\\has-padding-bottom']\")\n",
    "a_tag = page_1.find_element(By.TAG_NAME,'a')\n",
    "link = a_tag.get_attribute('href')\n",
    "print(link)     \n"
   ]
  },
  {
   "cell_type": "code",
   "execution_count": 2,
   "metadata": {},
   "outputs": [
    {
     "name": "stdout",
     "output_type": "stream",
     "text": [
      "No button found...exiting\n"
     ]
    }
   ],
   "source": [
    "import selenium\n",
    "import time\n",
    "from selenium import webdriver\n",
    "from selenium.webdriver.common.keys import Keys\n",
    "from selenium.webdriver.common.by import By\n",
    "from selenium.webdriver.support.ui import WebDriverWait\n",
    "from selenium.webdriver.support import expected_conditions as EC\n",
    "driver = webdriver.Chrome()\n",
    "\n",
    "driver.get(\"https://gorillamind.com/\")\n",
    "time.sleep(1)\n",
    "link = driver.find_element(By.LINK_TEXT,\"All Products\")\n",
    "time.sleep(1)\n",
    "link.click()\n",
    "time.sleep(10)\n",
    "try: \n",
    "    modal = driver.find_element(By.XPATH,'//button[@class=\"sc-75msgg-0 RlRPc close-button cw-close\"]')\n",
    "    modal.click()\n",
    "    print('Button clicked')    \n",
    "\n",
    "except:\n",
    "    print('No button found...exiting')\n",
    "    driver.quit() \n",
    "\n",
    "\n"
   ]
  }
 ],
 "metadata": {
  "kernelspec": {
   "display_name": "Python 3.10.4 64-bit",
   "language": "python",
   "name": "python3"
  },
  "language_info": {
   "codemirror_mode": {
    "name": "ipython",
    "version": 3
   },
   "file_extension": ".py",
   "mimetype": "text/x-python",
   "name": "python",
   "nbconvert_exporter": "python",
   "pygments_lexer": "ipython3",
   "version": "3.10.4"
  },
  "orig_nbformat": 4,
  "vscode": {
   "interpreter": {
    "hash": "916dbcbb3f70747c44a77c7bcd40155683ae19c65e1c03b4aa3499c5328201f1"
   }
  }
 },
 "nbformat": 4,
 "nbformat_minor": 2
}
