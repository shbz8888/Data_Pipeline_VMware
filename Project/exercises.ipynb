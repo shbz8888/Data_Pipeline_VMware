{
 "cells": [
  {
   "cell_type": "code",
   "execution_count": 1,
   "metadata": {},
   "outputs": [
    {
     "name": "stdout",
     "output_type": "stream",
     "text": [
      "Defaulting to user installation because normal site-packages is not writeable\n",
      "Requirement already satisfied: selenium in /home/shahbaz/.local/lib/python3.10/site-packages (4.3.0)\n",
      "Requirement already satisfied: urllib3[secure,socks]~=1.26 in /usr/lib/python3/dist-packages (from selenium) (1.26.5)\n",
      "Requirement already satisfied: trio~=0.17 in /home/shahbaz/.local/lib/python3.10/site-packages (from selenium) (0.21.0)\n",
      "Requirement already satisfied: trio-websocket~=0.9 in /home/shahbaz/.local/lib/python3.10/site-packages (from selenium) (0.9.2)\n",
      "Requirement already satisfied: async-generator>=1.9 in /home/shahbaz/.local/lib/python3.10/site-packages (from trio~=0.17->selenium) (1.10)\n",
      "Requirement already satisfied: idna in /usr/lib/python3/dist-packages (from trio~=0.17->selenium) (3.3)\n",
      "Requirement already satisfied: sortedcontainers in /home/shahbaz/.local/lib/python3.10/site-packages (from trio~=0.17->selenium) (2.4.0)\n",
      "Requirement already satisfied: sniffio in /home/shahbaz/.local/lib/python3.10/site-packages (from trio~=0.17->selenium) (1.2.0)\n",
      "Requirement already satisfied: attrs>=19.2.0 in /home/shahbaz/.local/lib/python3.10/site-packages (from trio~=0.17->selenium) (21.4.0)\n",
      "Requirement already satisfied: outcome in /home/shahbaz/.local/lib/python3.10/site-packages (from trio~=0.17->selenium) (1.2.0)\n",
      "Requirement already satisfied: wsproto>=0.14 in /home/shahbaz/.local/lib/python3.10/site-packages (from trio-websocket~=0.9->selenium) (1.1.0)\n",
      "Requirement already satisfied: PySocks!=1.5.7,<2.0,>=1.5.6 in /home/shahbaz/.local/lib/python3.10/site-packages (from urllib3[secure,socks]~=1.26->selenium) (1.7.1)\n",
      "Requirement already satisfied: certifi in /usr/lib/python3/dist-packages (from urllib3[secure,socks]~=1.26->selenium) (2020.6.20)\n",
      "Requirement already satisfied: cryptography>=1.3.4 in /home/shahbaz/.local/lib/python3.10/site-packages (from urllib3[secure,socks]~=1.26->selenium) (37.0.4)\n",
      "Requirement already satisfied: pyOpenSSL>=0.14 in /home/shahbaz/.local/lib/python3.10/site-packages (from urllib3[secure,socks]~=1.26->selenium) (22.0.0)\n",
      "Requirement already satisfied: cffi>=1.12 in /home/shahbaz/.local/lib/python3.10/site-packages (from cryptography>=1.3.4->urllib3[secure,socks]~=1.26->selenium) (1.15.1)\n",
      "Requirement already satisfied: h11<1,>=0.9.0 in /home/shahbaz/.local/lib/python3.10/site-packages (from wsproto>=0.14->trio-websocket~=0.9->selenium) (0.13.0)\n",
      "Requirement already satisfied: pycparser in /home/shahbaz/.local/lib/python3.10/site-packages (from cffi>=1.12->cryptography>=1.3.4->urllib3[secure,socks]~=1.26->selenium) (2.21)\n",
      "Note: you may need to restart the kernel to use updated packages.\n"
     ]
    }
   ],
   "source": [
    "pip install selenium\n"
   ]
  },
  {
   "cell_type": "code",
   "execution_count": 6,
   "metadata": {},
   "outputs": [],
   "source": [
    "\n",
    "\n",
    "import selenium\n",
    "\n",
    "from selenium import webdriver\n",
    "from time import sleep\n",
    "\n",
    "driver = webdriver.Chrome()\n",
    "driver.get(\"https://zoopla.co.uk\")"
   ]
  },
  {
   "cell_type": "code",
   "execution_count": 7,
   "metadata": {},
   "outputs": [
    {
     "data": {
      "text/plain": [
       "<selenium.webdriver.chrome.webdriver.WebDriver (session=\"ae72fe1d290158714ea6009455108afe\")>"
      ]
     },
     "execution_count": 7,
     "metadata": {},
     "output_type": "execute_result"
    }
   ],
   "source": [
    "import selenium\n",
    "from selenium import webdriver\n",
    "import time\n",
    "\n",
    "def load_and_accept_cookies() -> webdriver.Chrome:\n",
    "    '''\n",
    "    Open Zoopla and accept the cookies\n",
    "    \n",
    "    Returns\n",
    "    -------\n",
    "    driver: webdriver.Chrome\n",
    "        This driver is already in the Zoopla webpage\n",
    "    '''\n",
    "    driver = webdriver.Chrome() \n",
    "    URL = \"https://www.zoopla.co.uk/new-homes/property/london/?q=London&results_sort=newest_listings&search_source=new-homes&page_size=25&pn=1&view_type=list\"\n",
    "    driver.get(URL)\n",
    "    time.sleep(3) \n",
    "    try:\n",
    "        driver.switch_to_frame('gdpr-consent-notice') # This is the id of the frame\n",
    "        accept_cookies_button = driver.find_element(\"xpath\",'//*[@id=\"save\"]')\n",
    "        accept_cookies_button.click()\n",
    "        time.sleep(1)\n",
    "    except AttributeError: # If you have the latest version of Selenium, the code above won't run because the \"switch_to_frame\" is deprecated\n",
    "        driver.switch_to.frame('gdpr-consent-notice') # This is the id of the frame\n",
    "        accept_cookies_button = driver.find_element(\"xpath\",'//*[@id=\"save\"]')\n",
    "        accept_cookies_button.click()\n",
    "        time.sleep(1)\n",
    "\n",
    "    except:\n",
    "        pass\n",
    "\n",
    "    return driver \n",
    "\n",
    "load_and_accept_cookies()"
   ]
  },
  {
   "cell_type": "code",
   "execution_count": null,
   "metadata": {},
   "outputs": [],
   "source": [
    "driver = load_and_accept_cookies()"
   ]
  },
  {
   "cell_type": "code",
   "execution_count": null,
   "metadata": {},
   "outputs": [],
   "source": [
    "import selenium\n",
    "from selenium import webdriver\n",
    "import time\n",
    "\n",
    "driver = webdriver.Chrome() \n",
    "URL = \"https://www.zoopla.co.uk/new-homes/property/london/?q=London&results_sort=newest_listings&search_source=new-homes&page_size=25&pn=1&view_type=list\"\n",
    "driver.get(URL)\n",
    "time.sleep(2) # Wait a couple of seconds, so the website doesn't suspect you are a bot\n",
    "try:\n",
    "    driver.switch_to_frame('gdpr-consent-notice') # This is the id of the frame\n",
    "    accept_cookies_button = driver.find_element(\"xpath\",'//*[@id=\"save\"]')\n",
    "    accept_cookies_button.click()\n",
    "\n",
    "except AttributeError: # If you have the latest version of Selenium, the code above won't run because the \"switch_to_frame\" is deprecated\n",
    "    driver.switch_to.frame('gdpr-consent-notice') # This is the id of the frame\n",
    "    accept_cookies_button = driver.find_element(\"xpath\",'//*[@id=\"save\"]')\n",
    "    accept_cookies_button.click()\n",
    "\n",
    "except:\n",
    "    pass\n",
    "time.sleep(2)\n",
    "property = driver.find_element(\"xpath\",'//*[@id=\"listing_61910410\"]') # Change this xpath with the xpath the current page has in their properties\n",
    "a_tag = property.find_element(\"tag name\",'a')\n",
    "link = a_tag.get_attribute('href')\n",
    "print(link)\n",
    "driver.get(link)\n",
    "dict_properties = {'Price': [], 'Address': [], 'Bedrooms': [], 'Description': []}\n",
    "price = driver.find_element(\"xpath\",'//span[@data-testid=\"price\"]').text\n",
    "print(price)\n",
    "address = driver.find_element(\"xpath\",'//span[@data-testid=\"address-label\"]').text\n",
    "print(address)\n",
    "bedrooms = driver.find_element(\"xpath\",'//span[@data-testid=\"beds-label\"]').text\n",
    "print(bedrooms)\n",
    "div_tag = driver.find_element(\"xpath\",'//div[@data-testid=\"truncated_text_container\"]')\n",
    "span_tag = div_tag.find_element(\"xpath\",'.//span')\n",
    "description = span_tag.text\n",
    "print(description)\n",
    "print(dict_properties.get('Price'))\n"
   ]
  },
  {
   "cell_type": "code",
   "execution_count": null,
   "metadata": {},
   "outputs": [],
   "source": [
    "driver.get(link)\n",
    "price = driver.find_element(\"xpath\",'//span[@data-testid=\"price\"]').text\n",
    "print(price)\n",
    "address = driver.find_element(\"xpath\",'//span[@data-testid=\"address-label\"]').text\n",
    "print(address)\n",
    "bedrooms = driver.find_element(\"xpath\",'//span[@data-testid=\"beds-label\"]').text\n",
    "print(bedrooms)\n",
    "div_tag = driver.find_element(\"xpath\",'//div[@data-testid=\"truncated_text_container\"]')\n",
    "span_tag = div_tag.find_element(\"xpath\",'.//span')\n",
    "description = span_tag.text\n",
    "print(description)\n"
   ]
  },
  {
   "cell_type": "code",
   "execution_count": null,
   "metadata": {},
   "outputs": [],
   "source": [
    "import selenium\n",
    "import time\n",
    "from selenium import webdriver\n",
    "from selenium.webdriver.common.keys import Keys\n",
    "from selenium.webdriver.common.by import By\n",
    "driver = webdriver.Chrome()\n",
    "\n",
    "driver.get(\"https://gorillamind.com/\")\n",
    "\n",
    "driver = webdriver.Chrome() \n",
    "driver.get(\"https://gorillamind.com/\")\n",
    "time.sleep(1) \n",
    "from selenium.webdriver.common.action_chains import ActionChains\n",
    "ActionChains(driver).move_to_element(driver.find_element(\"id\",'shopify-section-16073749206d12c898')).perform()"
   ]
  },
  {
   "cell_type": "code",
   "execution_count": null,
   "metadata": {},
   "outputs": [],
   "source": [
    "time.sleep(5)\n",
    "link2 = driver.find_element(By.CLASS_NAME,\"sc-11mj446-0 gikyiw\")\n",
    "link2.click"
   ]
  },
  {
   "cell_type": "code",
   "execution_count": 5,
   "metadata": {},
   "outputs": [
    {
     "ename": "NoSuchElementException",
     "evalue": "Message: no such element: Unable to locate element: {\"method\":\"xpath\",\"selector\":\"//*[@id=\"listing_61910410\"]\"}\n  (Session info: chrome=103.0.5060.114)\nStacktrace:\n#0 0x5638fd973b13 <unknown>\n#1 0x5638fd77a688 <unknown>\n#2 0x5638fd7b1cc7 <unknown>\n#3 0x5638fd7b1e91 <unknown>\n#4 0x5638fd7e4e34 <unknown>\n#5 0x5638fd7cf8dd <unknown>\n#6 0x5638fd7e2b94 <unknown>\n#7 0x5638fd7cf7a3 <unknown>\n#8 0x5638fd7a50ea <unknown>\n#9 0x5638fd7a6225 <unknown>\n#10 0x5638fd9bb2dd <unknown>\n#11 0x5638fd9bf2c7 <unknown>\n#12 0x5638fd9a522e <unknown>\n#13 0x5638fd9c00a8 <unknown>\n#14 0x5638fd999bc0 <unknown>\n#15 0x5638fd9dc6c8 <unknown>\n#16 0x5638fd9dc848 <unknown>\n#17 0x5638fd9f6c0d <unknown>\n#18 0x7f5c5a31cb43 <unknown>\n",
     "output_type": "error",
     "traceback": [
      "\u001b[0;31m---------------------------------------------------------------------------\u001b[0m",
      "\u001b[0;31mNoSuchElementException\u001b[0m                    Traceback (most recent call last)",
      "\u001b[1;32m/home/shahbaz/Data_Pipeline_NewVM/Data_Pipeline_VMware/exercises.ipynb Cell 9\u001b[0m in \u001b[0;36m<cell line: 24>\u001b[0;34m()\u001b[0m\n\u001b[1;32m     <a href='vscode-notebook-cell:/home/shahbaz/Data_Pipeline_NewVM/Data_Pipeline_VMware/exercises.ipynb#ch0000008?line=21'>22</a>\u001b[0m     \u001b[39mpass\u001b[39;00m\n\u001b[1;32m     <a href='vscode-notebook-cell:/home/shahbaz/Data_Pipeline_NewVM/Data_Pipeline_VMware/exercises.ipynb#ch0000008?line=22'>23</a>\u001b[0m time\u001b[39m.\u001b[39msleep(\u001b[39m2\u001b[39m)\n\u001b[0;32m---> <a href='vscode-notebook-cell:/home/shahbaz/Data_Pipeline_NewVM/Data_Pipeline_VMware/exercises.ipynb#ch0000008?line=23'>24</a>\u001b[0m house_property \u001b[39m=\u001b[39m driver\u001b[39m.\u001b[39;49mfind_element(by\u001b[39m=\u001b[39;49mBy\u001b[39m.\u001b[39;49mXPATH, value\u001b[39m=\u001b[39;49m\u001b[39m'\u001b[39;49m\u001b[39m//*[@id=\u001b[39;49m\u001b[39m\"\u001b[39;49m\u001b[39mlisting_61910410\u001b[39;49m\u001b[39m\"\u001b[39;49m\u001b[39m]\u001b[39;49m\u001b[39m'\u001b[39;49m) \u001b[39m# Change this xpath with the xpath the current page has in their properties\u001b[39;00m\n\u001b[1;32m     <a href='vscode-notebook-cell:/home/shahbaz/Data_Pipeline_NewVM/Data_Pipeline_VMware/exercises.ipynb#ch0000008?line=24'>25</a>\u001b[0m a_tag \u001b[39m=\u001b[39m house_property\u001b[39m.\u001b[39mfind_element(By\u001b[39m.\u001b[39mTAG_NAME,\u001b[39m\"\u001b[39m\u001b[39ma\u001b[39m\u001b[39m\"\u001b[39m)\n\u001b[1;32m     <a href='vscode-notebook-cell:/home/shahbaz/Data_Pipeline_NewVM/Data_Pipeline_VMware/exercises.ipynb#ch0000008?line=25'>26</a>\u001b[0m link \u001b[39m=\u001b[39m a_tag\u001b[39m.\u001b[39mget_attribute(\u001b[39m'\u001b[39m\u001b[39mhref\u001b[39m\u001b[39m'\u001b[39m)\n",
      "File \u001b[0;32m~/.local/lib/python3.10/site-packages/selenium/webdriver/remote/webdriver.py:857\u001b[0m, in \u001b[0;36mWebDriver.find_element\u001b[0;34m(self, by, value)\u001b[0m\n\u001b[1;32m    854\u001b[0m     by \u001b[39m=\u001b[39m By\u001b[39m.\u001b[39mCSS_SELECTOR\n\u001b[1;32m    855\u001b[0m     value \u001b[39m=\u001b[39m \u001b[39m'\u001b[39m\u001b[39m[name=\u001b[39m\u001b[39m\"\u001b[39m\u001b[39m%s\u001b[39;00m\u001b[39m\"\u001b[39m\u001b[39m]\u001b[39m\u001b[39m'\u001b[39m \u001b[39m%\u001b[39m value\n\u001b[0;32m--> 857\u001b[0m \u001b[39mreturn\u001b[39;00m \u001b[39mself\u001b[39;49m\u001b[39m.\u001b[39;49mexecute(Command\u001b[39m.\u001b[39;49mFIND_ELEMENT, {\n\u001b[1;32m    858\u001b[0m     \u001b[39m'\u001b[39;49m\u001b[39musing\u001b[39;49m\u001b[39m'\u001b[39;49m: by,\n\u001b[1;32m    859\u001b[0m     \u001b[39m'\u001b[39;49m\u001b[39mvalue\u001b[39;49m\u001b[39m'\u001b[39;49m: value})[\u001b[39m'\u001b[39m\u001b[39mvalue\u001b[39m\u001b[39m'\u001b[39m]\n",
      "File \u001b[0;32m~/.local/lib/python3.10/site-packages/selenium/webdriver/remote/webdriver.py:435\u001b[0m, in \u001b[0;36mWebDriver.execute\u001b[0;34m(self, driver_command, params)\u001b[0m\n\u001b[1;32m    433\u001b[0m response \u001b[39m=\u001b[39m \u001b[39mself\u001b[39m\u001b[39m.\u001b[39mcommand_executor\u001b[39m.\u001b[39mexecute(driver_command, params)\n\u001b[1;32m    434\u001b[0m \u001b[39mif\u001b[39;00m response:\n\u001b[0;32m--> 435\u001b[0m     \u001b[39mself\u001b[39;49m\u001b[39m.\u001b[39;49merror_handler\u001b[39m.\u001b[39;49mcheck_response(response)\n\u001b[1;32m    436\u001b[0m     response[\u001b[39m'\u001b[39m\u001b[39mvalue\u001b[39m\u001b[39m'\u001b[39m] \u001b[39m=\u001b[39m \u001b[39mself\u001b[39m\u001b[39m.\u001b[39m_unwrap_value(\n\u001b[1;32m    437\u001b[0m         response\u001b[39m.\u001b[39mget(\u001b[39m'\u001b[39m\u001b[39mvalue\u001b[39m\u001b[39m'\u001b[39m, \u001b[39mNone\u001b[39;00m))\n\u001b[1;32m    438\u001b[0m     \u001b[39mreturn\u001b[39;00m response\n",
      "File \u001b[0;32m~/.local/lib/python3.10/site-packages/selenium/webdriver/remote/errorhandler.py:247\u001b[0m, in \u001b[0;36mErrorHandler.check_response\u001b[0;34m(self, response)\u001b[0m\n\u001b[1;32m    245\u001b[0m         alert_text \u001b[39m=\u001b[39m value[\u001b[39m'\u001b[39m\u001b[39malert\u001b[39m\u001b[39m'\u001b[39m]\u001b[39m.\u001b[39mget(\u001b[39m'\u001b[39m\u001b[39mtext\u001b[39m\u001b[39m'\u001b[39m)\n\u001b[1;32m    246\u001b[0m     \u001b[39mraise\u001b[39;00m exception_class(message, screen, stacktrace, alert_text)  \u001b[39m# type: ignore[call-arg]  # mypy is not smart enough here\u001b[39;00m\n\u001b[0;32m--> 247\u001b[0m \u001b[39mraise\u001b[39;00m exception_class(message, screen, stacktrace)\n",
      "\u001b[0;31mNoSuchElementException\u001b[0m: Message: no such element: Unable to locate element: {\"method\":\"xpath\",\"selector\":\"//*[@id=\"listing_61910410\"]\"}\n  (Session info: chrome=103.0.5060.114)\nStacktrace:\n#0 0x5638fd973b13 <unknown>\n#1 0x5638fd77a688 <unknown>\n#2 0x5638fd7b1cc7 <unknown>\n#3 0x5638fd7b1e91 <unknown>\n#4 0x5638fd7e4e34 <unknown>\n#5 0x5638fd7cf8dd <unknown>\n#6 0x5638fd7e2b94 <unknown>\n#7 0x5638fd7cf7a3 <unknown>\n#8 0x5638fd7a50ea <unknown>\n#9 0x5638fd7a6225 <unknown>\n#10 0x5638fd9bb2dd <unknown>\n#11 0x5638fd9bf2c7 <unknown>\n#12 0x5638fd9a522e <unknown>\n#13 0x5638fd9c00a8 <unknown>\n#14 0x5638fd999bc0 <unknown>\n#15 0x5638fd9dc6c8 <unknown>\n#16 0x5638fd9dc848 <unknown>\n#17 0x5638fd9f6c0d <unknown>\n#18 0x7f5c5a31cb43 <unknown>\n"
     ]
    }
   ],
   "source": [
    "import selenium\n",
    "import time\n",
    "from selenium import webdriver\n",
    "from selenium.webdriver.common.keys import Keys\n",
    "from selenium.webdriver.common.by import By\n",
    "driver = webdriver.Chrome()\n",
    "driver = webdriver.Chrome() \n",
    "URL = \"https://www.zoopla.co.uk/new-homes/property/london/?q=London&results_sort=newest_listings&search_source=new-homes&page_size=25&pn=1&view_type=list\"\n",
    "driver.get(URL)\n",
    "time.sleep(2)\n",
    "try:\n",
    "    driver.switch_to.frame('gdpr-consent-notice') # This is the id of the frame\n",
    "    accept_cookies_button = driver.find_element(\"xpath\",'//*[@id=\"save\"]')\n",
    "    accept_cookies_button.click()\n",
    "\n",
    "except AttributeError: # If you have the latest version of Selenium, the code above won't run because the \"switch_to_frame\" is deprecated\n",
    "    driver.switch_to.frame('gdpr-consent-notice') # This is the id of the frame\n",
    "    accept_cookies_button = driver.find_element(\"xpath\",'//*[@id=\"save\"]')\n",
    "    accept_cookies_button.click()\n",
    "\n",
    "except:\n",
    "    pass\n",
    "time.sleep(2)\n",
    "house_property = driver.find_element(by=By.XPATH, value='//*[@id=\"listing_61910410\"]') # Change this xpath with the xpath the current page has in their properties\n",
    "a_tag = house_property.find_element(By.TAG_NAME,\"a\")\n",
    "link = a_tag.get_attribute('href')\n",
    "print(link)"
   ]
  },
  {
   "cell_type": "code",
   "execution_count": 2,
   "metadata": {},
   "outputs": [],
   "source": [
    "import selenium\n",
    "from selenium import webdriver\n",
    "from selenium.webdriver.common.keys import Keys\n",
    "from selenium.webdriver.common.by import By\n",
    "driver = webdriver.Chrome()\n",
    "\n",
    "driver.get(\"http://www.python.org\")\n"
   ]
  },
  {
   "cell_type": "code",
   "execution_count": 1,
   "metadata": {},
   "outputs": [
    {
     "ename": "NoSuchElementException",
     "evalue": "Message: no such element: Unable to locate element: {\"method\":\"xpath\",\"selector\":\"//div[@class='\\one-third\\large-down--one-half\\medium-down--one-whole\\small-down--one-whole\\column\\quick-shop--true\\quick-shop--closed\\product-4898112667693 js-product_section\thumbnail\\product__thumbnail\\product__grid-item\thumbnail__hover-overlay--false\\has-padding-bottom']\"}\n  (Session info: chrome=103.0.5060.114)\nStacktrace:\n#0 0x558005923b13 <unknown>\n#1 0x55800572a688 <unknown>\n#2 0x558005761cc7 <unknown>\n#3 0x558005761e91 <unknown>\n#4 0x558005794e34 <unknown>\n#5 0x55800577f8dd <unknown>\n#6 0x558005792b94 <unknown>\n#7 0x55800577f7a3 <unknown>\n#8 0x5580057550ea <unknown>\n#9 0x558005756225 <unknown>\n#10 0x55800596b2dd <unknown>\n#11 0x55800596f2c7 <unknown>\n#12 0x55800595522e <unknown>\n#13 0x5580059700a8 <unknown>\n#14 0x558005949bc0 <unknown>\n#15 0x55800598c6c8 <unknown>\n#16 0x55800598c848 <unknown>\n#17 0x5580059a6c0d <unknown>\n#18 0x7f25ce6e4b43 <unknown>\n",
     "output_type": "error",
     "traceback": [
      "\u001b[0;31m---------------------------------------------------------------------------\u001b[0m",
      "\u001b[0;31mNoSuchElementException\u001b[0m                    Traceback (most recent call last)",
      "\u001b[1;32m/home/shahbaz/Data_Pipeline_NewVM/Data_Pipeline_VMware/exercises.ipynb Cell 11\u001b[0m in \u001b[0;36m<cell line: 12>\u001b[0;34m()\u001b[0m\n\u001b[1;32m     <a href='vscode-notebook-cell:/home/shahbaz/Data_Pipeline_NewVM/Data_Pipeline_VMware/exercises.ipynb#ch0000010?line=9'>10</a>\u001b[0m link\u001b[39m.\u001b[39mclick()\n\u001b[1;32m     <a href='vscode-notebook-cell:/home/shahbaz/Data_Pipeline_NewVM/Data_Pipeline_VMware/exercises.ipynb#ch0000010?line=10'>11</a>\u001b[0m time\u001b[39m.\u001b[39msleep(\u001b[39m2\u001b[39m)\n\u001b[0;32m---> <a href='vscode-notebook-cell:/home/shahbaz/Data_Pipeline_NewVM/Data_Pipeline_VMware/exercises.ipynb#ch0000010?line=11'>12</a>\u001b[0m page_1 \u001b[39m=\u001b[39m driver\u001b[39m.\u001b[39;49mfind_element(By\u001b[39m.\u001b[39;49mXPATH, \u001b[39m\"\u001b[39;49m\u001b[39m//div[@class=\u001b[39;49m\u001b[39m'\u001b[39;49m\u001b[39m\\\u001b[39;49m\u001b[39mone-third\u001b[39;49m\u001b[39m\\\u001b[39;49m\u001b[39mlarge-down--one-half\u001b[39;49m\u001b[39m\\\u001b[39;49m\u001b[39mmedium-down--one-whole\u001b[39;49m\u001b[39m\\\\\u001b[39;49;00m\u001b[39msmall-down--one-whole\u001b[39;49m\u001b[39m\\\\\u001b[39;49;00m\u001b[39mcolumn\u001b[39;49m\u001b[39m\\\\\u001b[39;49;00m\u001b[39mquick-shop--true\u001b[39;49m\u001b[39m\\\u001b[39;49m\u001b[39mquick-shop--closed\u001b[39;49m\u001b[39m\\\u001b[39;49m\u001b[39mproduct-4898112667693 js-product_section\u001b[39;49m\u001b[39m\\t\u001b[39;49;00m\u001b[39mhumbnail\u001b[39;49m\u001b[39m\\\u001b[39;49m\u001b[39mproduct__thumbnail\u001b[39;49m\u001b[39m\\\u001b[39;49m\u001b[39mproduct__grid-item\u001b[39;49m\u001b[39m\\t\u001b[39;49;00m\u001b[39mhumbnail__hover-overlay--false\u001b[39;49m\u001b[39m\\\u001b[39;49m\u001b[39mhas-padding-bottom\u001b[39;49m\u001b[39m'\u001b[39;49m\u001b[39m]\u001b[39;49m\u001b[39m\"\u001b[39;49m)\n\u001b[1;32m     <a href='vscode-notebook-cell:/home/shahbaz/Data_Pipeline_NewVM/Data_Pipeline_VMware/exercises.ipynb#ch0000010?line=12'>13</a>\u001b[0m a_tag \u001b[39m=\u001b[39m page_1\u001b[39m.\u001b[39mfind_element(By\u001b[39m.\u001b[39mTAG_NAME,\u001b[39m'\u001b[39m\u001b[39ma\u001b[39m\u001b[39m'\u001b[39m)\n\u001b[1;32m     <a href='vscode-notebook-cell:/home/shahbaz/Data_Pipeline_NewVM/Data_Pipeline_VMware/exercises.ipynb#ch0000010?line=13'>14</a>\u001b[0m link \u001b[39m=\u001b[39m a_tag\u001b[39m.\u001b[39mget_attribute(\u001b[39m'\u001b[39m\u001b[39mhref\u001b[39m\u001b[39m'\u001b[39m)\n",
      "File \u001b[0;32m~/.local/lib/python3.10/site-packages/selenium/webdriver/remote/webdriver.py:857\u001b[0m, in \u001b[0;36mWebDriver.find_element\u001b[0;34m(self, by, value)\u001b[0m\n\u001b[1;32m    854\u001b[0m     by \u001b[39m=\u001b[39m By\u001b[39m.\u001b[39mCSS_SELECTOR\n\u001b[1;32m    855\u001b[0m     value \u001b[39m=\u001b[39m \u001b[39m'\u001b[39m\u001b[39m[name=\u001b[39m\u001b[39m\"\u001b[39m\u001b[39m%s\u001b[39;00m\u001b[39m\"\u001b[39m\u001b[39m]\u001b[39m\u001b[39m'\u001b[39m \u001b[39m%\u001b[39m value\n\u001b[0;32m--> 857\u001b[0m \u001b[39mreturn\u001b[39;00m \u001b[39mself\u001b[39;49m\u001b[39m.\u001b[39;49mexecute(Command\u001b[39m.\u001b[39;49mFIND_ELEMENT, {\n\u001b[1;32m    858\u001b[0m     \u001b[39m'\u001b[39;49m\u001b[39musing\u001b[39;49m\u001b[39m'\u001b[39;49m: by,\n\u001b[1;32m    859\u001b[0m     \u001b[39m'\u001b[39;49m\u001b[39mvalue\u001b[39;49m\u001b[39m'\u001b[39;49m: value})[\u001b[39m'\u001b[39m\u001b[39mvalue\u001b[39m\u001b[39m'\u001b[39m]\n",
      "File \u001b[0;32m~/.local/lib/python3.10/site-packages/selenium/webdriver/remote/webdriver.py:435\u001b[0m, in \u001b[0;36mWebDriver.execute\u001b[0;34m(self, driver_command, params)\u001b[0m\n\u001b[1;32m    433\u001b[0m response \u001b[39m=\u001b[39m \u001b[39mself\u001b[39m\u001b[39m.\u001b[39mcommand_executor\u001b[39m.\u001b[39mexecute(driver_command, params)\n\u001b[1;32m    434\u001b[0m \u001b[39mif\u001b[39;00m response:\n\u001b[0;32m--> 435\u001b[0m     \u001b[39mself\u001b[39;49m\u001b[39m.\u001b[39;49merror_handler\u001b[39m.\u001b[39;49mcheck_response(response)\n\u001b[1;32m    436\u001b[0m     response[\u001b[39m'\u001b[39m\u001b[39mvalue\u001b[39m\u001b[39m'\u001b[39m] \u001b[39m=\u001b[39m \u001b[39mself\u001b[39m\u001b[39m.\u001b[39m_unwrap_value(\n\u001b[1;32m    437\u001b[0m         response\u001b[39m.\u001b[39mget(\u001b[39m'\u001b[39m\u001b[39mvalue\u001b[39m\u001b[39m'\u001b[39m, \u001b[39mNone\u001b[39;00m))\n\u001b[1;32m    438\u001b[0m     \u001b[39mreturn\u001b[39;00m response\n",
      "File \u001b[0;32m~/.local/lib/python3.10/site-packages/selenium/webdriver/remote/errorhandler.py:247\u001b[0m, in \u001b[0;36mErrorHandler.check_response\u001b[0;34m(self, response)\u001b[0m\n\u001b[1;32m    245\u001b[0m         alert_text \u001b[39m=\u001b[39m value[\u001b[39m'\u001b[39m\u001b[39malert\u001b[39m\u001b[39m'\u001b[39m]\u001b[39m.\u001b[39mget(\u001b[39m'\u001b[39m\u001b[39mtext\u001b[39m\u001b[39m'\u001b[39m)\n\u001b[1;32m    246\u001b[0m     \u001b[39mraise\u001b[39;00m exception_class(message, screen, stacktrace, alert_text)  \u001b[39m# type: ignore[call-arg]  # mypy is not smart enough here\u001b[39;00m\n\u001b[0;32m--> 247\u001b[0m \u001b[39mraise\u001b[39;00m exception_class(message, screen, stacktrace)\n",
      "\u001b[0;31mNoSuchElementException\u001b[0m: Message: no such element: Unable to locate element: {\"method\":\"xpath\",\"selector\":\"//div[@class='\\one-third\\large-down--one-half\\medium-down--one-whole\\small-down--one-whole\\column\\quick-shop--true\\quick-shop--closed\\product-4898112667693 js-product_section\thumbnail\\product__thumbnail\\product__grid-item\thumbnail__hover-overlay--false\\has-padding-bottom']\"}\n  (Session info: chrome=103.0.5060.114)\nStacktrace:\n#0 0x558005923b13 <unknown>\n#1 0x55800572a688 <unknown>\n#2 0x558005761cc7 <unknown>\n#3 0x558005761e91 <unknown>\n#4 0x558005794e34 <unknown>\n#5 0x55800577f8dd <unknown>\n#6 0x558005792b94 <unknown>\n#7 0x55800577f7a3 <unknown>\n#8 0x5580057550ea <unknown>\n#9 0x558005756225 <unknown>\n#10 0x55800596b2dd <unknown>\n#11 0x55800596f2c7 <unknown>\n#12 0x55800595522e <unknown>\n#13 0x5580059700a8 <unknown>\n#14 0x558005949bc0 <unknown>\n#15 0x55800598c6c8 <unknown>\n#16 0x55800598c848 <unknown>\n#17 0x5580059a6c0d <unknown>\n#18 0x7f25ce6e4b43 <unknown>\n"
     ]
    }
   ],
   "source": [
    "import selenium\n",
    "from selenium import webdriver\n",
    "from selenium.webdriver.common.keys import Keys\n",
    "from selenium.webdriver.common.by import By\n",
    "import time \n",
    "driver = webdriver.Chrome()\n",
    "driver.get(\"https://gorillamind.com/\")\n",
    "time.sleep(1)\n",
    "link = driver.find_element(By.LINK_TEXT,\"All Products\")\n",
    "link.click()\n",
    "time.sleep(2)\n",
    "page_1 = driver.find_element(By.XPATH, \"//div[@class='\\one-third\\large-down--one-half\\medium-down--one-whole\\\\small-down--one-whole\\\\column\\\\quick-shop--true\\quick-shop--closed\\product-4898112667693 js-product_section\\thumbnail\\product__thumbnail\\product__grid-item\\thumbnail__hover-overlay--false\\has-padding-bottom']\")\n",
    "a_tag = page_1.find_element(By.TAG_NAME,'a')\n",
    "link = a_tag.get_attribute('href')\n",
    "print(link)     \n"
   ]
  },
  {
   "cell_type": "code",
   "execution_count": null,
   "metadata": {},
   "outputs": [],
   "source": [
    "page_1 = driver.find_element(By.XPATH, \"//div[@class='\\\n",
    "\\\n",
    "\\\n",
    "\\\n",
    "\\\n",
    "\\\n",
    "  one-third\\\n",
    "\\\n",
    "\\\n",
    "  large-down--one-half\\\n",
    "  medium-down--one-whole\\\n",
    "  \\\n",
    "    small-down--one-whole\\\n",
    "  \\\n",
    "  column\\\n",
    "  \\\n",
    "    quick-shop--true\\\n",
    "    quick-shop--closed\\\n",
    "    product-4898112667693 js-product_section\\\n",
    "  \\\n",
    "  \\\n",
    "  \\\n",
    "  thumbnail\\\n",
    "  product__thumbnail\\\n",
    "  product__grid-item\\\n",
    "  thumbnail__hover-overlay--false\\\n",
    "  has-padding-bottom']\")\n",
    "a_tag = page_1.find_element(By.TAG_NAME,'a')\n",
    "link = a_tag.get_attribute('href')\n",
    "print(link)\n",
    "time.sleep(1)\n",
    "driver.execute_script(\"window.scrollTo(0, document.body.scrollHeight);\")"
   ]
  },
  {
   "cell_type": "code",
   "execution_count": 3,
   "metadata": {},
   "outputs": [
    {
     "ename": "NameError",
     "evalue": "name 'By' is not defined",
     "output_type": "error",
     "traceback": [
      "\u001b[0;31m---------------------------------------------------------------------------\u001b[0m",
      "\u001b[0;31mNameError\u001b[0m                                 Traceback (most recent call last)",
      "\u001b[1;32m/home/shahbaz/Data_Pipeline_NewVM/Data_Pipeline_VMware/exercises.ipynb Cell 13\u001b[0m in \u001b[0;36m<cell line: 9>\u001b[0;34m()\u001b[0m\n\u001b[1;32m      <a href='vscode-notebook-cell:/home/shahbaz/Data_Pipeline_NewVM/Data_Pipeline_VMware/exercises.ipynb#ch0000012?line=6'>7</a>\u001b[0m URL \u001b[39m=\u001b[39m \u001b[39m'\u001b[39m\u001b[39mhttps://unsplash.com/s/photos/dog\u001b[39m\u001b[39m'\u001b[39m\n\u001b[1;32m      <a href='vscode-notebook-cell:/home/shahbaz/Data_Pipeline_NewVM/Data_Pipeline_VMware/exercises.ipynb#ch0000012?line=7'>8</a>\u001b[0m driver\u001b[39m.\u001b[39mget(URL)\n\u001b[0;32m----> <a href='vscode-notebook-cell:/home/shahbaz/Data_Pipeline_NewVM/Data_Pipeline_VMware/exercises.ipynb#ch0000012?line=8'>9</a>\u001b[0m dog_list \u001b[39m=\u001b[39m driver\u001b[39m.\u001b[39mfind_elements(By\u001b[39m.\u001b[39mXPATH,\u001b[39m'\u001b[39m\u001b[39m//figure[@itemprop=\u001b[39m\u001b[39m\"\u001b[39m\u001b[39mimage\u001b[39m\u001b[39m\"\u001b[39m\u001b[39m]\u001b[39m\u001b[39m'\u001b[39m)\n\u001b[1;32m     <a href='vscode-notebook-cell:/home/shahbaz/Data_Pipeline_NewVM/Data_Pipeline_VMware/exercises.ipynb#ch0000012?line=9'>10</a>\u001b[0m links \u001b[39m=\u001b[39m []\n\u001b[1;32m     <a href='vscode-notebook-cell:/home/shahbaz/Data_Pipeline_NewVM/Data_Pipeline_VMware/exercises.ipynb#ch0000012?line=10'>11</a>\u001b[0m \u001b[39mfor\u001b[39;00m dog \u001b[39min\u001b[39;00m dog_list:\n",
      "\u001b[0;31mNameError\u001b[0m: name 'By' is not defined"
     ]
    }
   ],
   "source": [
    "from selenium import webdriver\n",
    "import urllib.request\n",
    "import time\n",
    "\n",
    "driver = webdriver.Chrome()\n",
    "# Get links for dogs\n",
    "URL = 'https://unsplash.com/s/photos/dog'\n",
    "driver.get(URL)\n",
    "dog_list = driver.find_elements(By.XPATH,'//figure[@itemprop=\"image\"]')\n",
    "links = []\n",
    "for dog in dog_list:\n",
    "    links.append(dog.find_element(By.XPATH,'.//a').get_attribute('href'))\n",
    "# go to the link containing the image\n",
    "for i, link in enumerate(links):\n",
    "    driver.get(link)\n",
    "    time.sleep(0.5)\n",
    "    src = driver.find_element(By.XPATH,'//img[@class=\"oCCRx\"]').get_attribute('src')\n",
    "    urllib.request.urlretrieve(src, f\"dog_{i}.jpg\")\n",
    "    \n",
    "# Get links for cats\n",
    "URL = 'https://unsplash.com/s/photos/cat'\n",
    "driver.get(URL)\n",
    "cat_list = driver.find_elements(By.XPATH,'//figure[@itemprop=\"image\"]')\n",
    "links = []\n",
    "for cat in cat_list:\n",
    "    links.append(cat.find_element(By.XPATH,'.//a').get_attribute('href'))\n",
    "# go to the link containing the image\n",
    "for i, link in enumerate(links):\n",
    "    driver.get(link)\n",
    "    time.sleep(0.5)\n",
    "    src = driver.find_element(By.XPATH,'//img[@class=\"oCCRx\"]').get_attribute('src')\n",
    "    urllib.request.urlretrieve(src, f\"cat_{i}.jpg\")"
   ]
  },
  {
   "cell_type": "code",
   "execution_count": 10,
   "metadata": {},
   "outputs": [
    {
     "name": "stdout",
     "output_type": "stream",
     "text": [
      "(1) Rock\n",
      "(2) Paper\n",
      "(3) Scissors\n",
      "You chose paper\n",
      "The computer chose rock\n",
      "Yes, paper beat rock!\n"
     ]
    }
   ],
   "source": [
    "import random\n",
    "options = ['rock', 'paper', 'scissors']\n",
    "\n",
    "def get_computer_choice():\n",
    "    computer_choice = random.choice(options)\n",
    "    return computer_choice\n",
    "\n",
    "def print_options():\n",
    "    print('(1) Rock\\n(2) Paper\\n(3) Scissors')\n",
    "\n",
    "def get_human_choice():\n",
    "    human_choice = options[int(input('Enter the number of your choice: ')) - 1]\n",
    "    return human_choice\n",
    "\n",
    "def print_choices(human_choice,computer_choice):\n",
    "    print(f'You chose {human_choice}')\n",
    "    print(f'The computer chose {computer_choice}')\n",
    "    if computer_choice == 'rock' and human_choice == 'scissors':\n",
    "        human_loses_to = 'rock'\n",
    "        return human_loses_to\n",
    "    elif computer_choice == 'rock' and human_choice == 'paper':\n",
    "        human_beats = 'rock'\n",
    "        return human_beats\n",
    "    elif computer_choice == 'paper' and human_choice == 'rock':\n",
    "        human_loses_to = 'paper'\n",
    "        return human_loses_to\n",
    "    elif computer_choice == 'paper' and human_choice == 'scissors':\n",
    "        human_beats = 'paper'\n",
    "        return human_beats\n",
    "    elif computer_choice == 'scissors' and human_choice == 'paper':\n",
    "        human_loses_to = 'scissors'\n",
    "        return human_loses_to\n",
    "    elif computer_choice == 'scissors' and human_choice == 'rock':\n",
    "        human_beats = 'scissors'\n",
    "        return human_beats\n",
    "    else:\n",
    "        print(\"Try again input invalid\")\n",
    "    return \n",
    "\n",
    "\n",
    "def print_result(human_choice,computer_choice):\n",
    "    if human_choice == 'rock':\n",
    "        if computer_choice == 'paper':\n",
    "            print('Sorry, paper beat rock')\n",
    "        elif computer_choice == 'scissors':\n",
    "            print('Yes, rock beat scissors!')\n",
    "        else:\n",
    "            print('Draw!')\n",
    "    elif human_choice == 'paper':\n",
    "        if computer_choice == 'scissors':\n",
    "            print('Sorry, scissors beat paper')\n",
    "        elif computer_choice == 'rock':\n",
    "            print('Yes, paper beat rock!')\n",
    "        else:\n",
    "            print('Draw!')\n",
    "    elif human_choice == 'scissors':\n",
    "        if computer_choice == 'rock':\n",
    "            print('Sorry, rock beat scissors')\n",
    "        elif computer_choice == 'paper':\n",
    "            print('Yes, scissors beat paper!')\n",
    "        else:\n",
    "            print('Draw!')\n",
    "\n",
    "\n",
    "computer_choice = get_computer_choice()\n",
    "print_options()\n",
    "human_choice = get_human_choice()\n",
    "print_choices(human_choice, computer_choice)\n",
    "print_result(human_choice, computer_choice)\n",
    "\n",
    "\n",
    "\n"
   ]
  },
  {
   "cell_type": "code",
   "execution_count": 1,
   "metadata": {},
   "outputs": [],
   "source": [
    "class Tweet:\n",
    "    pass"
   ]
  },
  {
   "cell_type": "code",
   "execution_count": 2,
   "metadata": {},
   "outputs": [],
   "source": [
    "a = Tweet()"
   ]
  },
  {
   "cell_type": "code",
   "execution_count": 3,
   "metadata": {},
   "outputs": [],
   "source": [
    "a.message = '140 characters.'"
   ]
  },
  {
   "cell_type": "code",
   "execution_count": 4,
   "metadata": {},
   "outputs": [
    {
     "name": "stdout",
     "output_type": "stream",
     "text": [
      "140 characters.\n"
     ]
    }
   ],
   "source": [
    "print(a.message)"
   ]
  },
  {
   "cell_type": "code",
   "execution_count": 5,
   "metadata": {},
   "outputs": [],
   "source": [
    "b = Tweet()"
   ]
  },
  {
   "cell_type": "code",
   "execution_count": 6,
   "metadata": {},
   "outputs": [],
   "source": [
    "b.message = 'Something entirely different'"
   ]
  },
  {
   "cell_type": "code",
   "execution_count": 7,
   "metadata": {},
   "outputs": [
    {
     "name": "stdout",
     "output_type": "stream",
     "text": [
      "Something entirely different\n"
     ]
    }
   ],
   "source": [
    "print(b.message)"
   ]
  },
  {
   "cell_type": "code",
   "execution_count": 11,
   "metadata": {},
   "outputs": [],
   "source": [
    "class Tweet:\n",
    "    def __init__(self, message):\n",
    "        self.x = message"
   ]
  },
  {
   "cell_type": "code",
   "execution_count": 12,
   "metadata": {},
   "outputs": [],
   "source": [
    "a = Tweet('Something here')"
   ]
  },
  {
   "cell_type": "code",
   "execution_count": 13,
   "metadata": {},
   "outputs": [
    {
     "name": "stdout",
     "output_type": "stream",
     "text": [
      "Something here\n"
     ]
    }
   ],
   "source": [
    "print(a.x)"
   ]
  },
  {
   "cell_type": "code",
   "execution_count": 14,
   "metadata": {},
   "outputs": [],
   "source": [
    "b = Tweet(\"I'm another instance of Tweet\")"
   ]
  },
  {
   "cell_type": "code",
   "execution_count": 15,
   "metadata": {},
   "outputs": [
    {
     "name": "stdout",
     "output_type": "stream",
     "text": [
      "I'm another instance of Tweet\n"
     ]
    }
   ],
   "source": [
    "print(b.x)"
   ]
  },
  {
   "cell_type": "code",
   "execution_count": 17,
   "metadata": {},
   "outputs": [],
   "source": [
    "class Tweet:\n",
    "    def __init__(self, message):\n",
    "        self.message = message\n",
    "    def print_tweet(self):\n",
    "        print(self.message)"
   ]
  },
  {
   "cell_type": "code",
   "execution_count": 20,
   "metadata": {},
   "outputs": [],
   "source": [
    "t = Tweet('An instance of Tweet')"
   ]
  },
  {
   "cell_type": "code",
   "execution_count": 22,
   "metadata": {},
   "outputs": [
    {
     "name": "stdout",
     "output_type": "stream",
     "text": [
      "An instance of Tweet\n"
     ]
    }
   ],
   "source": [
    "t.print_tweet()"
   ]
  },
  {
   "cell_type": "code",
   "execution_count": 23,
   "metadata": {},
   "outputs": [],
   "source": [
    "a = Tweet(1)\n",
    "b = Tweet(2)"
   ]
  },
  {
   "cell_type": "code",
   "execution_count": 24,
   "metadata": {},
   "outputs": [
    {
     "name": "stdout",
     "output_type": "stream",
     "text": [
      "1\n",
      "2\n"
     ]
    }
   ],
   "source": [
    "a.print_tweet()\n",
    "b.print_tweet()"
   ]
  },
  {
   "cell_type": "code",
   "execution_count": 25,
   "metadata": {},
   "outputs": [
    {
     "ename": "TypeError",
     "evalue": "Tweet.print_tweet() missing 1 required positional argument: 'self'",
     "output_type": "error",
     "traceback": [
      "\u001b[0;31m---------------------------------------------------------------------------\u001b[0m",
      "\u001b[0;31mTypeError\u001b[0m                                 Traceback (most recent call last)",
      "\u001b[1;32m/home/shahbaz/Data_Pipeline_NewVM/Data_Pipeline_VMware/exercises.ipynb Cell 32\u001b[0m in \u001b[0;36m<cell line: 1>\u001b[0;34m()\u001b[0m\n\u001b[0;32m----> <a href='vscode-notebook-cell:/home/shahbaz/Data_Pipeline_NewVM/Data_Pipeline_VMware/exercises.ipynb#ch0000031?line=0'>1</a>\u001b[0m Tweet\u001b[39m.\u001b[39;49mprint_tweet()\n",
      "\u001b[0;31mTypeError\u001b[0m: Tweet.print_tweet() missing 1 required positional argument: 'self'"
     ]
    }
   ],
   "source": [
    "Tweet.print_tweet()"
   ]
  },
  {
   "cell_type": "code",
   "execution_count": 26,
   "metadata": {},
   "outputs": [
    {
     "name": "stdout",
     "output_type": "stream",
     "text": [
      "1\n"
     ]
    }
   ],
   "source": [
    "Tweet.print_tweet(a)"
   ]
  },
  {
   "cell_type": "code",
   "execution_count": null,
   "metadata": {},
   "outputs": [],
   "source": [
    "def extract_links(self):\n",
    "                gear_container = self.driver.find_element(By.XPATH, '//div[@class=\"container collection-matrix\"]')\n",
    "                gear_list = gear_container.find_elements(By.XPATH, './/a[@class=\"hidden-product-link\"]')\n",
    "                \n",
    "\n",
    "                for gear in gear_list:\n",
    "                        link = gear.get_attribute('href')\n",
    "                        self.gear_link_list.append(link)\n",
    "                time.sleep(1)   \n",
    "                print(self.gear_link_list)\n",
    "                print(f' there are {len(self.gear_link_list)} products in this list')\n",
    "                return \n",
    "\n",
    " def collect_image(self):\n",
    "                gear_container = self.driver.find_element(By.XPATH, '//div[@class=\"container collection-matrix\"]')\n",
    "                image_container = gear_container.find_element(By.XPATH, './/img[@data-src=\"//cdn.shopify.com/s/files/1/0369/2580/0493/products/Gorilla-Mode-OG-Volcano-Burst_1600x.png?v=1656857311\"]')\n",
    "                final_image  = image_container.get_attribute('data-src')\n",
    "                print(final_image)\n",
    "                time.sleep(1)\n",
    "\n",
    "def collect_text(self):\n",
    "                gear_container = self.driver.find_element(By.XPATH, '//div[@class=\"container collection-matrix\"]')\n",
    "                money = gear_container.find_element(By.XPATH, './/span[@class=\"money\"]').text\n",
    "                print(money)\n",
    "                name = gear_container.find_element(By.XPATH, './/a[@class=\"product-thumbnail__title\"]').text\n",
    "                print(name)\n",
    "                product_type = gear_container.find_element(By.XPATH, './/span[@class=\"product-thumbnail__type\"]').text\n",
    "                print(product_type)"
   ]
  },
  {
   "cell_type": "code",
   "execution_count": 30,
   "metadata": {},
   "outputs": [],
   "source": [
    "import uuid\n",
    "import json\n",
    "import os\n",
    "import urllib.request\n",
    "import requests\n",
    "UUID = uuid.uuid4() \n",
    "ID = str(UUID)\n",
    "final_image = 'cdn.shopify.com/s/files/1/0369/2580/0493/products/Gorilla-Mode-OG-Volcano-Burst_5000x.png?v=1656857311'\n",
    "dict_products = {'Name': ['GORILLA MODE'], 'UUID': [ID], 'Description': ['PRE-WORKOUT']}\n",
    "path = \"/home/shahbaz/Data_Pipeline_NewVM/Data_Pipeline_VMware/raw_data\"\n",
    "os.chdir(path)\n",
    "Newfolder =os.makedirs(f'{ID}')\n",
    "path2 = (f\"/home/shahbaz/Data_Pipeline_NewVM/Data_Pipeline_VMware/raw_data/{ID}\")\n",
    "os.chdir(path2)\n",
    "jsonString = json.dumps(dict_products)\n",
    "jsonFile = open(\"data.json\", \"w\")\n",
    "jsonFile.write(jsonString)\n",
    "jsonFile.close()\n",
    "os.makedirs('Images')\n",
    "path3 = (f\"/home/shahbaz/Data_Pipeline_NewVM/Data_Pipeline_VMware/raw_data/{ID}/Images\")\n",
    "os.chdir(path3)\n",
    "with open(f'{ID}_1.png', 'wb') as f:\n",
    "    f.write(requests.get(final_image).content)"
   ]
  },
  {
   "cell_type": "code",
   "execution_count": 31,
   "metadata": {},
   "outputs": [
    {
     "name": "stdout",
     "output_type": "stream",
     "text": [
      "https://cdn.shopify.com/s/files/1/0369/2580/0493/products/Gorilla-Mode-OG-Volcano-Burst_5000x.png?v=1656857311\n"
     ]
    }
   ],
   "source": [
    "final_image = 'cdn.shopify.com/s/files/1/0369/2580/0493/products/Gorilla-Mode-OG-Volcano-Burst_5000x.png?v=1656857311'\n",
    "https = 'https://'\n",
    "print(https + final_image)"
   ]
  },
  {
   "cell_type": "code",
   "execution_count": 1,
   "metadata": {},
   "outputs": [
    {
     "name": "stdout",
     "output_type": "stream",
     "text": [
      "d0be0696-3e54-4bb4-9507-25ffddfb4a12\n",
      "NaN\n"
     ]
    },
    {
     "data": {
      "text/plain": [
       "('GORILLA MODE ENERGY TO GO',\n",
       " '',\n",
       " 'Contains: 2 Servings',\n",
       " '2 Servings',\n",
       " 'NaN',\n",
       " 'd0be0696-3e54-4bb4-9507-25ffddfb4a12')"
      ]
     },
     "execution_count": 1,
     "metadata": {},
     "output_type": "execute_result"
    }
   ],
   "source": [
    "from os import link\n",
    "import selenium\n",
    "import time\n",
    "import uuid\n",
    "import json\n",
    "import os\n",
    "import requests\n",
    "from selenium import webdriver\n",
    "from selenium.webdriver.common.keys import Keys\n",
    "from selenium.webdriver.common.by import By\n",
    "from selenium.webdriver.support.ui import WebDriverWait\n",
    "from selenium.webdriver.support import expected_conditions as EC\n",
    "driver = webdriver.Chrome()\n",
    "driver.get(\"https://gorillamind.com/collections/all/products/gorilla-mode-energy-to-go\")\n",
    "\n",
    "\n",
    "def extract_text():\n",
    "            gear_container = driver.find_element(By.XPATH, '//div[@class=\"container\"]')\n",
    "            name = gear_container.find_element(By.XPATH, './/h1[@class=\"product_name title\"]').text\n",
    "            price = gear_container.find_element(By.XPATH, './/span[@class=\"money\"]').text\n",
    "            description= gear_container.find_element(By.XPATH, './/div[@class=\"description content\"]').text\n",
    "            size = gear_container.find_element(By.XPATH, './/span[@class=\"variant-size\"]').text\n",
    "            try:\n",
    "                    num_reviews = gear_container.find_element(By.XPATH, './/a[@class=\"text-m\"]').text\n",
    "                    time.sleep(2)\n",
    "                    ID = uuid.uuid4()\n",
    "                    strID = str(ID)\n",
    "                    print(strID)\n",
    "                    time.sleep(5)\n",
    "            except:\n",
    "                    num_reviews = \"NaN\"\n",
    "                    time.sleep(2)\n",
    "                    ID = uuid.uuid4()\n",
    "                    strID = str(ID)\n",
    "                    print(strID)\n",
    "                    time.sleep(5) \n",
    "\n",
    "            print(num_reviews)\n",
    "            return name, price, description, size, num_reviews, strID \n",
    "\n",
    "extract_text()\n"
   ]
  },
  {
   "cell_type": "code",
   "execution_count": 2,
   "metadata": {},
   "outputs": [
    {
     "name": "stdout",
     "output_type": "stream",
     "text": [
      "['https://gorillamind.com/collections/all/products/gorilla-mode-energy-sample', 'hellow']\n",
      "['hellow']\n"
     ]
    }
   ],
   "source": [
    "links = ['https://gorillamind.com/collections/all/products/gorilla-mode-energy-sample','hellow']\n",
    "print(links)\n",
    "links.remove('https://gorillamind.com/collections/all/products/gorilla-mode-energy-sample')\n",
    "print(links)"
   ]
  },
  {
   "cell_type": "code",
   "execution_count": 10,
   "metadata": {},
   "outputs": [
    {
     "name": "stdout",
     "output_type": "stream",
     "text": [
      "<class 'uuid.UUID'>\n"
     ]
    }
   ],
   "source": [
    "from os import link\n",
    "import selenium\n",
    "import time\n",
    "import uuid\n",
    "import json\n",
    "import os\n",
    "import requests\n",
    "from selenium import webdriver\n",
    "from selenium.webdriver.common.keys import Keys\n",
    "from selenium.webdriver.common.by import By\n",
    "from selenium.webdriver.support.ui import WebDriverWait\n",
    "from selenium.webdriver.support import expected_conditions as EC\n",
    "ID = uuid.uuid4()\n",
    "print(type(ID))\n",
    "\n"
   ]
  },
  {
   "cell_type": "code",
   "execution_count": 8,
   "metadata": {},
   "outputs": [
    {
     "name": "stdout",
     "output_type": "stream",
     "text": [
      "<class 'dict'>\n"
     ]
    }
   ],
   "source": [
    "dict_c = {'Name': ['gamma']}\n",
    "c='a'\n",
    "print(type(dict_c))"
   ]
  },
  {
   "cell_type": "code",
   "execution_count": 2,
   "metadata": {},
   "outputs": [
    {
     "name": "stdout",
     "output_type": "stream",
     "text": [
      "36\n"
     ]
    }
   ],
   "source": [
    "import uuid\n",
    "ID = uuid.uuid4()\n",
    "strID = str(ID)\n",
    "print(len(strID))\n",
    "dict = {'Name': [\"GORILLA MODE\"], 'Price': [\"$49.99\"], 'Description': [\"\\u2022 Intense Focus + Drive*\\n\\u2022 Huge Nitric Oxide Pump*\\n\\u2022 Increased Endurance + Power*\"], 'Size': [\"40 Servings\"], 'Num_reviews': [\"1521 Reviews\"], 'UUID': [\"b0c08216-36ab-42cf-8c4d-59c9a22486d6\"], 'Image': [\"https://cdn.shopify.com/s/files/1/0369/2580/0493/products/Gorilla-Mode-OG-Volcano-Burst_5000x.png?v=1656857311\"]}\n",
    "print(len(dict))"
   ]
  }
 ],
 "metadata": {
  "kernelspec": {
   "display_name": "Python 3.10.4 64-bit",
   "language": "python",
   "name": "python3"
  },
  "language_info": {
   "codemirror_mode": {
    "name": "ipython",
    "version": 3
   },
   "file_extension": ".py",
   "mimetype": "text/x-python",
   "name": "python",
   "nbconvert_exporter": "python",
   "pygments_lexer": "ipython3",
   "version": "3.10.4"
  },
  "orig_nbformat": 4,
  "vscode": {
   "interpreter": {
    "hash": "916dbcbb3f70747c44a77c7bcd40155683ae19c65e1c03b4aa3499c5328201f1"
   }
  }
 },
 "nbformat": 4,
 "nbformat_minor": 2
}
